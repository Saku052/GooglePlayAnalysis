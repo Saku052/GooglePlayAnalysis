{
  "nbformat": 4,
  "nbformat_minor": 0,
  "metadata": {
    "colab": {
      "name": "PlayWeightAnalysis.ipynb",
      "provenance": [],
      "collapsed_sections": [],
      "authorship_tag": "ABX9TyPyYRCc4qzbnr3f84UJX9vp",
      "include_colab_link": true
    },
    "kernelspec": {
      "name": "python3",
      "display_name": "Python 3"
    },
    "language_info": {
      "name": "python"
    }
  },
  "cells": [
    {
      "cell_type": "markdown",
      "metadata": {
        "id": "view-in-github",
        "colab_type": "text"
      },
      "source": [
        "<a href=\"https://colab.research.google.com/github/Saku052/GooglePlayAnalysis/blob/main/PlayWeightAnalysis.ipynb\" target=\"_parent\"><img src=\"https://colab.research.google.com/assets/colab-badge.svg\" alt=\"Open In Colab\"/></a>"
      ]
    },
    {
      "cell_type": "markdown",
      "source": [
        "# Relationship of elements, installs and rating in a game."
      ],
      "metadata": {
        "id": "5O8oEPNq_UmX"
      }
    },
    {
      "cell_type": "markdown",
      "source": [
        "## Introduction\n",
        "components in a application game such as attached mini games and long story modes are huge element which form a game. \n",
        "\n",
        "From this fact, I formed a hypothesis. \n",
        "\n",
        "\n",
        "\n",
        "> More elements in a game the better. \n",
        "\n",
        "This simply means that if the game has long story and more components to it, the game will get better reviews and installs compared to a small game. \n",
        "\n",
        "#### Quantify components in a game. \n",
        "To make this possible, I have simply borrowed a dataset with size of the app.\n",
        "\n",
        "To quantify components more accurately, counting the number of words in a story will be better. However, this method is not relistic as collecting the data from each application just takes too much time. \n",
        "\n"
      ],
      "metadata": {
        "id": "rxLRlp6RHGWv"
      }
    },
    {
      "cell_type": "markdown",
      "source": [
        "## Library"
      ],
      "metadata": {
        "id": "KdFvoc1AOyJA"
      }
    },
    {
      "cell_type": "code",
      "execution_count": null,
      "metadata": {
        "id": "vbXcxNYG4WYs"
      },
      "outputs": [],
      "source": [
        "import pandas as pd\n",
        "import numpy as np\n",
        "import statsmodels.formula.api as sm\n",
        "import matplotlib.pyplot as plt\n",
        "import scipy.stats as st"
      ]
    },
    {
      "cell_type": "markdown",
      "source": [
        "## Processing data"
      ],
      "metadata": {
        "id": "B9_2-usAt0Y7"
      }
    },
    {
      "cell_type": "code",
      "source": [
        "df = pd.read_csv(\"googleplaystore.csv\")\n",
        "df.head(3)"
      ],
      "metadata": {
        "colab": {
          "base_uri": "https://localhost:8080/",
          "height": 309
        },
        "id": "QaysYZm19Rnl",
        "outputId": "c1489db4-bc02-4c79-880d-d88f15c585a6"
      },
      "execution_count": null,
      "outputs": [
        {
          "output_type": "execute_result",
          "data": {
            "text/plain": [
              "                                                 App        Category  Rating  \\\n",
              "0     Photo Editor & Candy Camera & Grid & ScrapBook  ART_AND_DESIGN     4.1   \n",
              "1                                Coloring book moana  ART_AND_DESIGN     3.9   \n",
              "2  U Launcher Lite – FREE Live Cool Themes, Hide ...  ART_AND_DESIGN     4.7   \n",
              "\n",
              "  Reviews  Size    Installs  Type Price Content Rating  \\\n",
              "0     159   19M     10,000+  Free     0       Everyone   \n",
              "1     967   14M    500,000+  Free     0       Everyone   \n",
              "2   87510  8.7M  5,000,000+  Free     0       Everyone   \n",
              "\n",
              "                      Genres      Last Updated Current Ver   Android Ver  \n",
              "0               Art & Design   January 7, 2018       1.0.0  4.0.3 and up  \n",
              "1  Art & Design;Pretend Play  January 15, 2018       2.0.0  4.0.3 and up  \n",
              "2               Art & Design    August 1, 2018       1.2.4  4.0.3 and up  "
            ],
            "text/html": [
              "\n",
              "  <div id=\"df-becd4ed6-d2e9-46c2-a93c-fc6ff21c26b6\">\n",
              "    <div class=\"colab-df-container\">\n",
              "      <div>\n",
              "<style scoped>\n",
              "    .dataframe tbody tr th:only-of-type {\n",
              "        vertical-align: middle;\n",
              "    }\n",
              "\n",
              "    .dataframe tbody tr th {\n",
              "        vertical-align: top;\n",
              "    }\n",
              "\n",
              "    .dataframe thead th {\n",
              "        text-align: right;\n",
              "    }\n",
              "</style>\n",
              "<table border=\"1\" class=\"dataframe\">\n",
              "  <thead>\n",
              "    <tr style=\"text-align: right;\">\n",
              "      <th></th>\n",
              "      <th>App</th>\n",
              "      <th>Category</th>\n",
              "      <th>Rating</th>\n",
              "      <th>Reviews</th>\n",
              "      <th>Size</th>\n",
              "      <th>Installs</th>\n",
              "      <th>Type</th>\n",
              "      <th>Price</th>\n",
              "      <th>Content Rating</th>\n",
              "      <th>Genres</th>\n",
              "      <th>Last Updated</th>\n",
              "      <th>Current Ver</th>\n",
              "      <th>Android Ver</th>\n",
              "    </tr>\n",
              "  </thead>\n",
              "  <tbody>\n",
              "    <tr>\n",
              "      <th>0</th>\n",
              "      <td>Photo Editor &amp; Candy Camera &amp; Grid &amp; ScrapBook</td>\n",
              "      <td>ART_AND_DESIGN</td>\n",
              "      <td>4.1</td>\n",
              "      <td>159</td>\n",
              "      <td>19M</td>\n",
              "      <td>10,000+</td>\n",
              "      <td>Free</td>\n",
              "      <td>0</td>\n",
              "      <td>Everyone</td>\n",
              "      <td>Art &amp; Design</td>\n",
              "      <td>January 7, 2018</td>\n",
              "      <td>1.0.0</td>\n",
              "      <td>4.0.3 and up</td>\n",
              "    </tr>\n",
              "    <tr>\n",
              "      <th>1</th>\n",
              "      <td>Coloring book moana</td>\n",
              "      <td>ART_AND_DESIGN</td>\n",
              "      <td>3.9</td>\n",
              "      <td>967</td>\n",
              "      <td>14M</td>\n",
              "      <td>500,000+</td>\n",
              "      <td>Free</td>\n",
              "      <td>0</td>\n",
              "      <td>Everyone</td>\n",
              "      <td>Art &amp; Design;Pretend Play</td>\n",
              "      <td>January 15, 2018</td>\n",
              "      <td>2.0.0</td>\n",
              "      <td>4.0.3 and up</td>\n",
              "    </tr>\n",
              "    <tr>\n",
              "      <th>2</th>\n",
              "      <td>U Launcher Lite – FREE Live Cool Themes, Hide ...</td>\n",
              "      <td>ART_AND_DESIGN</td>\n",
              "      <td>4.7</td>\n",
              "      <td>87510</td>\n",
              "      <td>8.7M</td>\n",
              "      <td>5,000,000+</td>\n",
              "      <td>Free</td>\n",
              "      <td>0</td>\n",
              "      <td>Everyone</td>\n",
              "      <td>Art &amp; Design</td>\n",
              "      <td>August 1, 2018</td>\n",
              "      <td>1.2.4</td>\n",
              "      <td>4.0.3 and up</td>\n",
              "    </tr>\n",
              "  </tbody>\n",
              "</table>\n",
              "</div>\n",
              "      <button class=\"colab-df-convert\" onclick=\"convertToInteractive('df-becd4ed6-d2e9-46c2-a93c-fc6ff21c26b6')\"\n",
              "              title=\"Convert this dataframe to an interactive table.\"\n",
              "              style=\"display:none;\">\n",
              "        \n",
              "  <svg xmlns=\"http://www.w3.org/2000/svg\" height=\"24px\"viewBox=\"0 0 24 24\"\n",
              "       width=\"24px\">\n",
              "    <path d=\"M0 0h24v24H0V0z\" fill=\"none\"/>\n",
              "    <path d=\"M18.56 5.44l.94 2.06.94-2.06 2.06-.94-2.06-.94-.94-2.06-.94 2.06-2.06.94zm-11 1L8.5 8.5l.94-2.06 2.06-.94-2.06-.94L8.5 2.5l-.94 2.06-2.06.94zm10 10l.94 2.06.94-2.06 2.06-.94-2.06-.94-.94-2.06-.94 2.06-2.06.94z\"/><path d=\"M17.41 7.96l-1.37-1.37c-.4-.4-.92-.59-1.43-.59-.52 0-1.04.2-1.43.59L10.3 9.45l-7.72 7.72c-.78.78-.78 2.05 0 2.83L4 21.41c.39.39.9.59 1.41.59.51 0 1.02-.2 1.41-.59l7.78-7.78 2.81-2.81c.8-.78.8-2.07 0-2.86zM5.41 20L4 18.59l7.72-7.72 1.47 1.35L5.41 20z\"/>\n",
              "  </svg>\n",
              "      </button>\n",
              "      \n",
              "  <style>\n",
              "    .colab-df-container {\n",
              "      display:flex;\n",
              "      flex-wrap:wrap;\n",
              "      gap: 12px;\n",
              "    }\n",
              "\n",
              "    .colab-df-convert {\n",
              "      background-color: #E8F0FE;\n",
              "      border: none;\n",
              "      border-radius: 50%;\n",
              "      cursor: pointer;\n",
              "      display: none;\n",
              "      fill: #1967D2;\n",
              "      height: 32px;\n",
              "      padding: 0 0 0 0;\n",
              "      width: 32px;\n",
              "    }\n",
              "\n",
              "    .colab-df-convert:hover {\n",
              "      background-color: #E2EBFA;\n",
              "      box-shadow: 0px 1px 2px rgba(60, 64, 67, 0.3), 0px 1px 3px 1px rgba(60, 64, 67, 0.15);\n",
              "      fill: #174EA6;\n",
              "    }\n",
              "\n",
              "    [theme=dark] .colab-df-convert {\n",
              "      background-color: #3B4455;\n",
              "      fill: #D2E3FC;\n",
              "    }\n",
              "\n",
              "    [theme=dark] .colab-df-convert:hover {\n",
              "      background-color: #434B5C;\n",
              "      box-shadow: 0px 1px 3px 1px rgba(0, 0, 0, 0.15);\n",
              "      filter: drop-shadow(0px 1px 2px rgba(0, 0, 0, 0.3));\n",
              "      fill: #FFFFFF;\n",
              "    }\n",
              "  </style>\n",
              "\n",
              "      <script>\n",
              "        const buttonEl =\n",
              "          document.querySelector('#df-becd4ed6-d2e9-46c2-a93c-fc6ff21c26b6 button.colab-df-convert');\n",
              "        buttonEl.style.display =\n",
              "          google.colab.kernel.accessAllowed ? 'block' : 'none';\n",
              "\n",
              "        async function convertToInteractive(key) {\n",
              "          const element = document.querySelector('#df-becd4ed6-d2e9-46c2-a93c-fc6ff21c26b6');\n",
              "          const dataTable =\n",
              "            await google.colab.kernel.invokeFunction('convertToInteractive',\n",
              "                                                     [key], {});\n",
              "          if (!dataTable) return;\n",
              "\n",
              "          const docLinkHtml = 'Like what you see? Visit the ' +\n",
              "            '<a target=\"_blank\" href=https://colab.research.google.com/notebooks/data_table.ipynb>data table notebook</a>'\n",
              "            + ' to learn more about interactive tables.';\n",
              "          element.innerHTML = '';\n",
              "          dataTable['output_type'] = 'display_data';\n",
              "          await google.colab.output.renderOutput(dataTable, element);\n",
              "          const docLink = document.createElement('div');\n",
              "          docLink.innerHTML = docLinkHtml;\n",
              "          element.appendChild(docLink);\n",
              "        }\n",
              "      </script>\n",
              "    </div>\n",
              "  </div>\n",
              "  "
            ]
          },
          "metadata": {},
          "execution_count": 23
        }
      ]
    },
    {
      "cell_type": "markdown",
      "source": [
        "Cleaning data"
      ],
      "metadata": {
        "id": "8nAt6E1gDSGj"
      }
    },
    {
      "cell_type": "code",
      "source": [
        "# Drop irrelevant columns\n",
        "df = df.drop([\"Type\", \"Price\", \"Content Rating\", \"Last Updated\", \"Current Ver\", \"Android Ver\"], axis = 1)\n",
        "# Convert non float value to float\n",
        "df[\"Reviews\"] = pd.to_numeric(df[\"Reviews\"], errors = \"coerce\")\n",
        "df[\"Size\"] =  pd.to_numeric(df[\"Size\"].str.strip('M'), errors = \"coerce\")\n",
        "df[\"Installs\"] = df[\"Installs\"].str.replace(',', '')\n",
        "df[\"Installs\"] =  pd.to_numeric(df[\"Installs\"].str.strip('+'), errors = \"coerce\")\n",
        "# clear all null values\n",
        "df = df.dropna()\n"
      ],
      "metadata": {
        "id": "c4yDhiAtDUiT"
      },
      "execution_count": null,
      "outputs": []
    },
    {
      "cell_type": "code",
      "source": [
        "# Retrive data where the category is game\n",
        "# Remove Category column\n",
        "Game_df = df[df[\"Category\"] == \"GAME\"]\n",
        "Game_df = Game_df.drop([\"Category\"], axis = 1)\n",
        "Game_df.tail(3)"
      ],
      "metadata": {
        "colab": {
          "base_uri": "https://localhost:8080/",
          "height": 143
        },
        "id": "4aUAKw6EtxR_",
        "outputId": "f4de464d-b6d6-44b7-ca18-16ef44448e2a"
      },
      "execution_count": null,
      "outputs": [
        {
          "output_type": "execute_result",
          "data": {
            "text/plain": [
              "                                App  Rating  Reviews  Size   Installs  Genres\n",
              "10793                     Sid Story     4.4  28510.0  78.0   500000.0    Card\n",
              "10803  Fatal Raid - No.1 Mobile FPS     4.3  56496.0  81.0  1000000.0  Action\n",
              "10804                  Poker Pro.Fr     4.2   5442.0  17.0   100000.0    Card"
            ],
            "text/html": [
              "\n",
              "  <div id=\"df-e1b8fa5c-a100-4bf5-a8de-df689b2cb310\">\n",
              "    <div class=\"colab-df-container\">\n",
              "      <div>\n",
              "<style scoped>\n",
              "    .dataframe tbody tr th:only-of-type {\n",
              "        vertical-align: middle;\n",
              "    }\n",
              "\n",
              "    .dataframe tbody tr th {\n",
              "        vertical-align: top;\n",
              "    }\n",
              "\n",
              "    .dataframe thead th {\n",
              "        text-align: right;\n",
              "    }\n",
              "</style>\n",
              "<table border=\"1\" class=\"dataframe\">\n",
              "  <thead>\n",
              "    <tr style=\"text-align: right;\">\n",
              "      <th></th>\n",
              "      <th>App</th>\n",
              "      <th>Rating</th>\n",
              "      <th>Reviews</th>\n",
              "      <th>Size</th>\n",
              "      <th>Installs</th>\n",
              "      <th>Genres</th>\n",
              "    </tr>\n",
              "  </thead>\n",
              "  <tbody>\n",
              "    <tr>\n",
              "      <th>10793</th>\n",
              "      <td>Sid Story</td>\n",
              "      <td>4.4</td>\n",
              "      <td>28510.0</td>\n",
              "      <td>78.0</td>\n",
              "      <td>500000.0</td>\n",
              "      <td>Card</td>\n",
              "    </tr>\n",
              "    <tr>\n",
              "      <th>10803</th>\n",
              "      <td>Fatal Raid - No.1 Mobile FPS</td>\n",
              "      <td>4.3</td>\n",
              "      <td>56496.0</td>\n",
              "      <td>81.0</td>\n",
              "      <td>1000000.0</td>\n",
              "      <td>Action</td>\n",
              "    </tr>\n",
              "    <tr>\n",
              "      <th>10804</th>\n",
              "      <td>Poker Pro.Fr</td>\n",
              "      <td>4.2</td>\n",
              "      <td>5442.0</td>\n",
              "      <td>17.0</td>\n",
              "      <td>100000.0</td>\n",
              "      <td>Card</td>\n",
              "    </tr>\n",
              "  </tbody>\n",
              "</table>\n",
              "</div>\n",
              "      <button class=\"colab-df-convert\" onclick=\"convertToInteractive('df-e1b8fa5c-a100-4bf5-a8de-df689b2cb310')\"\n",
              "              title=\"Convert this dataframe to an interactive table.\"\n",
              "              style=\"display:none;\">\n",
              "        \n",
              "  <svg xmlns=\"http://www.w3.org/2000/svg\" height=\"24px\"viewBox=\"0 0 24 24\"\n",
              "       width=\"24px\">\n",
              "    <path d=\"M0 0h24v24H0V0z\" fill=\"none\"/>\n",
              "    <path d=\"M18.56 5.44l.94 2.06.94-2.06 2.06-.94-2.06-.94-.94-2.06-.94 2.06-2.06.94zm-11 1L8.5 8.5l.94-2.06 2.06-.94-2.06-.94L8.5 2.5l-.94 2.06-2.06.94zm10 10l.94 2.06.94-2.06 2.06-.94-2.06-.94-.94-2.06-.94 2.06-2.06.94z\"/><path d=\"M17.41 7.96l-1.37-1.37c-.4-.4-.92-.59-1.43-.59-.52 0-1.04.2-1.43.59L10.3 9.45l-7.72 7.72c-.78.78-.78 2.05 0 2.83L4 21.41c.39.39.9.59 1.41.59.51 0 1.02-.2 1.41-.59l7.78-7.78 2.81-2.81c.8-.78.8-2.07 0-2.86zM5.41 20L4 18.59l7.72-7.72 1.47 1.35L5.41 20z\"/>\n",
              "  </svg>\n",
              "      </button>\n",
              "      \n",
              "  <style>\n",
              "    .colab-df-container {\n",
              "      display:flex;\n",
              "      flex-wrap:wrap;\n",
              "      gap: 12px;\n",
              "    }\n",
              "\n",
              "    .colab-df-convert {\n",
              "      background-color: #E8F0FE;\n",
              "      border: none;\n",
              "      border-radius: 50%;\n",
              "      cursor: pointer;\n",
              "      display: none;\n",
              "      fill: #1967D2;\n",
              "      height: 32px;\n",
              "      padding: 0 0 0 0;\n",
              "      width: 32px;\n",
              "    }\n",
              "\n",
              "    .colab-df-convert:hover {\n",
              "      background-color: #E2EBFA;\n",
              "      box-shadow: 0px 1px 2px rgba(60, 64, 67, 0.3), 0px 1px 3px 1px rgba(60, 64, 67, 0.15);\n",
              "      fill: #174EA6;\n",
              "    }\n",
              "\n",
              "    [theme=dark] .colab-df-convert {\n",
              "      background-color: #3B4455;\n",
              "      fill: #D2E3FC;\n",
              "    }\n",
              "\n",
              "    [theme=dark] .colab-df-convert:hover {\n",
              "      background-color: #434B5C;\n",
              "      box-shadow: 0px 1px 3px 1px rgba(0, 0, 0, 0.15);\n",
              "      filter: drop-shadow(0px 1px 2px rgba(0, 0, 0, 0.3));\n",
              "      fill: #FFFFFF;\n",
              "    }\n",
              "  </style>\n",
              "\n",
              "      <script>\n",
              "        const buttonEl =\n",
              "          document.querySelector('#df-e1b8fa5c-a100-4bf5-a8de-df689b2cb310 button.colab-df-convert');\n",
              "        buttonEl.style.display =\n",
              "          google.colab.kernel.accessAllowed ? 'block' : 'none';\n",
              "\n",
              "        async function convertToInteractive(key) {\n",
              "          const element = document.querySelector('#df-e1b8fa5c-a100-4bf5-a8de-df689b2cb310');\n",
              "          const dataTable =\n",
              "            await google.colab.kernel.invokeFunction('convertToInteractive',\n",
              "                                                     [key], {});\n",
              "          if (!dataTable) return;\n",
              "\n",
              "          const docLinkHtml = 'Like what you see? Visit the ' +\n",
              "            '<a target=\"_blank\" href=https://colab.research.google.com/notebooks/data_table.ipynb>data table notebook</a>'\n",
              "            + ' to learn more about interactive tables.';\n",
              "          element.innerHTML = '';\n",
              "          dataTable['output_type'] = 'display_data';\n",
              "          await google.colab.output.renderOutput(dataTable, element);\n",
              "          const docLink = document.createElement('div');\n",
              "          docLink.innerHTML = docLinkHtml;\n",
              "          element.appendChild(docLink);\n",
              "        }\n",
              "      </script>\n",
              "    </div>\n",
              "  </div>\n",
              "  "
            ]
          },
          "metadata": {},
          "execution_count": 25
        }
      ]
    },
    {
      "cell_type": "markdown",
      "source": [
        "#### Check the normality of reviews and decide the amount of reviews needed to take into account"
      ],
      "metadata": {
        "id": "8On7fYkQw9zX"
      }
    },
    {
      "cell_type": "markdown",
      "source": [
        "analysing all the rating could mess up the analysis. this is due to lack of reliability of some ratings with low reviews.\n",
        "\n",
        "To solve this problem\n",
        "\n",
        "\n",
        "> If the number of reviews follow the normal distribution, take out the data lower than 2 standerd distribution will increase the reliability. \n",
        "\n",
        "\n",
        "\n",
        "> If the number of reviews does not follow the normal distribution, take out the data on the lower quatile of interquatile range. \n",
        "\n",
        "\n",
        "\n",
        "\n",
        "\n"
      ],
      "metadata": {
        "id": "FQ7Q_JdSNsRA"
      }
    },
    {
      "cell_type": "code",
      "source": [
        "# Check normality by ploting a histogram for game df\n",
        "plt.hist(Game_df[\"Reviews\"], density = True, bins = 20)\n",
        "plt.title(\"Reviews histogram\")\n",
        "plt.xlabel(\"num of reviews\")\n",
        "plt.ylabel(\"Density\")\n",
        "plt.show()"
      ],
      "metadata": {
        "colab": {
          "base_uri": "https://localhost:8080/",
          "height": 295
        },
        "id": "oqMpcbMjuWlj",
        "outputId": "e1b7b890-36c1-4381-debd-782ca915e610"
      },
      "execution_count": null,
      "outputs": [
        {
          "output_type": "display_data",
          "data": {
            "text/plain": [
              "<Figure size 432x288 with 1 Axes>"
            ],
            "image/png": "[encoded data removed]"
          },
          "metadata": {
            "needs_background": "light"
          }
        }
      ]
    },
    {
      "cell_type": "markdown",
      "source": [
        "Number of reviews does not follow the normal distribution. Therefore, the best method here is to remove only the first quantile."
      ],
      "metadata": {
        "id": "0HHecWhzHJYC"
      }
    },
    {
      "cell_type": "code",
      "source": [
        "#obtain the first quantile\n",
        "Reviews_Quantile = Game_df[\"Reviews\"].quantile(0.25)\n",
        "#Save data frame that has been cleaned\n",
        "GameClean1_df = Game_df[Game_df[\"Reviews\"] > Reviews_Quantile]\n",
        "GameClean1_df.count()"
      ],
      "metadata": {
        "colab": {
          "base_uri": "https://localhost:8080/"
        },
        "id": "jujNq5HnE0AC",
        "outputId": "f629c38d-6829-4fb4-9755-7a39eb1cd235"
      },
      "execution_count": null,
      "outputs": [
        {
          "output_type": "execute_result",
          "data": {
            "text/plain": [
              "App         728\n",
              "Rating      728\n",
              "Reviews     728\n",
              "Size        728\n",
              "Installs    728\n",
              "Genres      728\n",
              "dtype: int64"
            ]
          },
          "metadata": {},
          "execution_count": 27
        }
      ]
    },
    {
      "cell_type": "markdown",
      "source": [
        "## Analysing data"
      ],
      "metadata": {
        "id": "eUt2f4_WY55Y"
      }
    },
    {
      "cell_type": "markdown",
      "source": [
        "Before creating a model for the data, check the relationship of data visually."
      ],
      "metadata": {
        "id": "RkRSYEZqY85s"
      }
    },
    {
      "cell_type": "code",
      "source": [
        "#Change the figure size\n",
        "plt.figure(figsize=[11, 9])\n",
        "\n",
        "#plot title\n",
        "plt.suptitle(\"Size of a game vs rating,installs\")\n",
        "\n",
        "# plot1\n",
        "plt.subplot(2, 1, 1)\n",
        "plt.scatter(GameClean1_df[\"Size\"], GameClean1_df[\"Rating\"])\n",
        "plt.title(\"Size vs Ratings\")\n",
        "\n",
        "#plot2\n",
        "plt.subplot(2, 1, 2)\n",
        "plt.scatter(GameClean1_df[\"Size\"], GameClean1_df[\"Installs\"])\n",
        "plt.title(\"Size vs Installs\")\n",
        "\n",
        "plt.show()"
      ],
      "metadata": {
        "colab": {
          "base_uri": "https://localhost:8080/",
          "height": 602
        },
        "id": "QBhqqP08ZHUE",
        "outputId": "bda20ba2-44b9-47ae-8903-e1ad5c7c5733"
      },
      "execution_count": null,
      "outputs": [
        {
          "output_type": "display_data",
          "data": {
            "text/plain": [
              "<Figure size 792x648 with 2 Axes>"
            ],
            "image/png": "[encoded data removed]"
          },
          "metadata": {
            "needs_background": "light"
          }
        }
      ]
    },
    {
      "cell_type": "markdown",
      "source": [
        "As the scatter plot does not show any special pattern, no adjustments are needed before modeling."
      ],
      "metadata": {
        "id": "szYacEBYiun2"
      }
    },
    {
      "cell_type": "markdown",
      "source": [
        "### modeling data"
      ],
      "metadata": {
        "id": "rmKojMUmlGj0"
      }
    },
    {
      "cell_type": "code",
      "source": [
        "model = sm.ols(\"Size~Rating+Installs\", GameClean1_df).fit()\n",
        "print(model.summary2())"
      ],
      "metadata": {
        "colab": {
          "base_uri": "https://localhost:8080/"
        },
        "id": "cfmHwYPJlLSv",
        "outputId": "8d2eeea7-3783-47a0-dc28-89cecb787151"
      },
      "execution_count": null,
      "outputs": [
        {
          "output_type": "stream",
          "name": "stdout",
          "text": [
            "                 Results: Ordinary least squares\n",
            "==================================================================\n",
            "Model:              OLS              Adj. R-squared:     0.050    \n",
            "Dependent Variable: Size             AIC:                6857.0886\n",
            "Date:               2022-07-09 02:02 BIC:                6870.8595\n",
            "No. Observations:   728              Log-Likelihood:     -3425.5  \n",
            "Df Model:           2                F-statistic:        20.15    \n",
            "Df Residuals:       725              Prob (F-statistic): 3.04e-09 \n",
            "R-squared:          0.053            Scale:              718.44   \n",
            "-------------------------------------------------------------------\n",
            "              Coef.    Std.Err.     t     P>|t|    [0.025    0.975]\n",
            "-------------------------------------------------------------------\n",
            "Intercept    -22.1909   15.8961  -1.3960  0.1631  -53.3988   9.0170\n",
            "Rating        16.4100    3.6750   4.4653  0.0000    9.1951  23.6249\n",
            "Installs       0.0000    0.0000   4.0104  0.0001    0.0000   0.0000\n",
            "------------------------------------------------------------------\n",
            "Omnibus:             83.424      Durbin-Watson:         1.791     \n",
            "Prob(Omnibus):       0.000       Jarque-Bera (JB):      29.853    \n",
            "Skew:                0.250       Prob(JB):              0.000     \n",
            "Kurtosis:            2.143       Condition No.:         2020128656\n",
            "==================================================================\n",
            "* The condition number is large (2e+09). This might indicate\n",
            "strong multicollinearity or other numerical problems.\n"
          ]
        }
      ]
    },
    {
      "cell_type": "markdown",
      "source": [
        "As the adjusted R squared is less than 0.7 the data has no linear relationships. "
      ],
      "metadata": {
        "id": "Ejn9E2Uy3asQ"
      }
    },
    {
      "cell_type": "markdown",
      "source": [
        "## Report\n",
        "From the result of ordinary least square model, the elements of a game, ratings and number of install has no linear relationships. \n",
        "\n",
        "This answers the Hypothesis \"More elements in a game the better.\" In other words, If the game has long story and more components to it, the game will get better revewis and installs compared to a small game. From this result, the Hypothsis gets rejected. \n",
        "\n",
        "This tells us that more elements is not allways better and that small games aren't allways bad. \n"
      ],
      "metadata": {
        "id": "1nqRzOoL6Jcd"
      }
    }
  ]
}
